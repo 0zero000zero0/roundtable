{
 "cells": [
  {
   "cell_type": "code",
   "execution_count": 1,
   "id": "f3ec8af6",
   "metadata": {},
   "outputs": [
    {
     "data": {
      "text/plain": [
       "'无效操作'"
      ]
     },
     "execution_count": 1,
     "metadata": {},
     "output_type": "execute_result"
    }
   ],
   "source": [
    "s = b'\\xce\\xde\\xd0\\xa7\\xb2\\xd9\\xd7\\xf7'\n",
    "s.decode(encoding='gbk')"
   ]
  }
 ],
 "metadata": {
  "kernelspec": {
   "display_name": "pytorch",
   "language": "python",
   "name": "python3"
  },
  "language_info": {
   "codemirror_mode": {
    "name": "ipython",
    "version": 3
   },
   "file_extension": ".py",
   "mimetype": "text/x-python",
   "name": "python",
   "nbconvert_exporter": "python",
   "pygments_lexer": "ipython3",
   "version": "3.12.3"
  }
 },
 "nbformat": 4,
 "nbformat_minor": 5
}
